{
 "cells": [
  {
   "cell_type": "markdown",
   "id": "542c4838-fcf0-426e-a7df-64e459117dce",
   "metadata": {},
   "source": [
    "# Testing Janitor resampling to 1ms."
   ]
  },
  {
   "cell_type": "code",
   "execution_count": 1,
   "id": "d7549210-73c7-4d42-822d-878038f01a41",
   "metadata": {},
   "outputs": [],
   "source": [
    "import pandas as pd\n",
    "import numpy as np\n",
    "import janitor\n",
    "from IPython.core.interactiveshell import InteractiveShell\n",
    "\n",
    "InteractiveShell.ast_node_interactivity = \"all\""
   ]
  },
  {
   "cell_type": "code",
   "execution_count": 2,
   "id": "96f3ebf5-cf82-45d6-88ed-6bdaf7ff4575",
   "metadata": {
    "editable": true,
    "slideshow": {
     "slide_type": ""
    },
    "tags": []
   },
   "outputs": [
    {
     "data": {
      "text/plain": [
       "(1, numpy.int64)"
      ]
     },
     "execution_count": 2,
     "metadata": {},
     "output_type": "execute_result"
    },
    {
     "data": {
      "text/plain": [
       "(12, numpy.int64)"
      ]
     },
     "execution_count": 2,
     "metadata": {},
     "output_type": "execute_result"
    },
    {
     "data": {
      "text/plain": [
       "(range(1, 13), range)"
      ]
     },
     "execution_count": 2,
     "metadata": {},
     "output_type": "execute_result"
    },
    {
     "data": {
      "text/html": [
       "<div>\n",
       "<style scoped>\n",
       "    .dataframe tbody tr th:only-of-type {\n",
       "        vertical-align: middle;\n",
       "    }\n",
       "\n",
       "    .dataframe tbody tr th {\n",
       "        vertical-align: top;\n",
       "    }\n",
       "\n",
       "    .dataframe thead th {\n",
       "        text-align: right;\n",
       "    }\n",
       "</style>\n",
       "<table border=\"1\" class=\"dataframe\">\n",
       "  <thead>\n",
       "    <tr style=\"text-align: right;\">\n",
       "      <th></th>\n",
       "      <th>x</th>\n",
       "      <th>y</th>\n",
       "    </tr>\n",
       "  </thead>\n",
       "  <tbody>\n",
       "    <tr>\n",
       "      <th>0</th>\n",
       "      <td>1</td>\n",
       "      <td>2.0</td>\n",
       "    </tr>\n",
       "    <tr>\n",
       "      <th>1</th>\n",
       "      <td>2</td>\n",
       "      <td>NaN</td>\n",
       "    </tr>\n",
       "    <tr>\n",
       "      <th>2</th>\n",
       "      <td>3</td>\n",
       "      <td>6.0</td>\n",
       "    </tr>\n",
       "    <tr>\n",
       "      <th>3</th>\n",
       "      <td>4</td>\n",
       "      <td>8.0</td>\n",
       "    </tr>\n",
       "    <tr>\n",
       "      <th>4</th>\n",
       "      <td>5</td>\n",
       "      <td>NaN</td>\n",
       "    </tr>\n",
       "    <tr>\n",
       "      <th>5</th>\n",
       "      <td>6</td>\n",
       "      <td>NaN</td>\n",
       "    </tr>\n",
       "    <tr>\n",
       "      <th>6</th>\n",
       "      <td>7</td>\n",
       "      <td>14.0</td>\n",
       "    </tr>\n",
       "    <tr>\n",
       "      <th>7</th>\n",
       "      <td>8</td>\n",
       "      <td>16.0</td>\n",
       "    </tr>\n",
       "    <tr>\n",
       "      <th>8</th>\n",
       "      <td>9</td>\n",
       "      <td>NaN</td>\n",
       "    </tr>\n",
       "    <tr>\n",
       "      <th>9</th>\n",
       "      <td>10</td>\n",
       "      <td>NaN</td>\n",
       "    </tr>\n",
       "    <tr>\n",
       "      <th>10</th>\n",
       "      <td>11</td>\n",
       "      <td>NaN</td>\n",
       "    </tr>\n",
       "    <tr>\n",
       "      <th>11</th>\n",
       "      <td>12</td>\n",
       "      <td>24.0</td>\n",
       "    </tr>\n",
       "  </tbody>\n",
       "</table>\n",
       "</div>"
      ],
      "text/plain": [
       "     x     y\n",
       "0    1   2.0\n",
       "1    2   NaN\n",
       "2    3   6.0\n",
       "3    4   8.0\n",
       "4    5   NaN\n",
       "5    6   NaN\n",
       "6    7  14.0\n",
       "7    8  16.0\n",
       "8    9   NaN\n",
       "9   10   NaN\n",
       "10  11   NaN\n",
       "11  12  24.0"
      ]
     },
     "execution_count": 2,
     "metadata": {},
     "output_type": "execute_result"
    }
   ],
   "source": [
    "# Create a data frame with 'holes'.\n",
    "df=pd.DataFrame(\n",
    "    {'x':[1, 3, 4, 7, 8, 12], \n",
    "     'y':[2, 6, 8, 14, 16, 24]})\n",
    "xmin = df[\"x\"].min()\n",
    "xmin, type(xmin)\n",
    "xmax = df[\"x\"].max()\n",
    "xmax, type(xmax)\n",
    "xrange =  range(round(xmin), round(xmax) + 1)\n",
    "xrange, type(xrange)\n",
    "df = df.complete(\n",
    "    {\"x\": xrange},\n",
    "   \n",
    "    sort=True\n",
    ")\n",
    "\n",
    "# Change the index from the default row number to column x\n",
    "# df.set_index('x', inplace=True)\n",
    "\n",
    "# Whow results\n",
    "# df.index\n",
    "df"
   ]
  },
  {
   "cell_type": "code",
   "execution_count": 3,
   "id": "d112b999-c7c1-4b87-a547-3f02a64e5a12",
   "metadata": {},
   "outputs": [],
   "source": [
    "\n",
    "\n",
    "\n",
    "\n",
    "# # Determine x range\n",
    "# x_min = round(df['x'].min())\n",
    "# x_max = round(df['x'].max())\n",
    "# x_range = range(x_min, x_max + 1)\n",
    "# x_range\n",
    "# dummy_y = np.repeat(None, (x_max - x_min) + 1)\n",
    "# df2=pd.DataFrame(\n",
    "#     {'x':key_range, \n",
    "#      'dummy_y':dummy_y})\n",
    "\n",
    "\n",
    "# df3 = pd.merge(df, df2, on='x', how='outer')\n",
    "# df3.drop(['dummy_y'],  axis=1, inplace=True,)\n",
    "# df3.sort_values(by=['x'], inplace=True)\n",
    "# df3\n",
    "\n",
    "\n",
    "# df3.set_index('x', inplace=True)\n",
    "# df3.interpolate(method='polynomial', order=2, inplace=True)\n",
    "# df3.reset_index(inplace=True)\n",
    "# df3\n",
    "\n",
    "       \n"
   ]
  },
  {
   "cell_type": "code",
   "execution_count": null,
   "id": "50a4d681-ccfc-4c44-8147-1b2e0ed7b7ec",
   "metadata": {
    "editable": true,
    "slideshow": {
     "slide_type": ""
    },
    "tags": []
   },
   "outputs": [],
   "source": []
  }
 ],
 "metadata": {
  "kernelspec": {
   "display_name": "Python 3 (ipykernel)",
   "language": "python",
   "name": "python3"
  },
  "language_info": {
   "codemirror_mode": {
    "name": "ipython",
    "version": 3
   },
   "file_extension": ".py",
   "mimetype": "text/x-python",
   "name": "python",
   "nbconvert_exporter": "python",
   "pygments_lexer": "ipython3",
   "version": "3.11.3"
  }
 },
 "nbformat": 4,
 "nbformat_minor": 5
}
