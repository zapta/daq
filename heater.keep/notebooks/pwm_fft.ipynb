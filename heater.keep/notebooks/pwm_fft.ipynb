{
 "cells": [
  {
   "cell_type": "markdown",
   "id": "81b19203-271b-49ac-ad22-c48fd82487ed",
   "metadata": {},
   "source": [
    "PWM Signal Sampling"
   ]
  },
  {
   "cell_type": "code",
   "execution_count": 21,
   "id": "6411617d-05e0-44a7-a777-14aece24e8df",
   "metadata": {},
   "outputs": [
    {
     "data": {
      "text/html": [
       "<div>\n",
       "<style scoped>\n",
       "    .dataframe tbody tr th:only-of-type {\n",
       "        vertical-align: middle;\n",
       "    }\n",
       "\n",
       "    .dataframe tbody tr th {\n",
       "        vertical-align: top;\n",
       "    }\n",
       "\n",
       "    .dataframe thead th {\n",
       "        text-align: right;\n",
       "    }\n",
       "</style>\n",
       "<table border=\"1\" class=\"dataframe\">\n",
       "  <thead>\n",
       "    <tr style=\"text-align: right;\">\n",
       "      <th></th>\n",
       "      <th>t</th>\n",
       "      <th>v</th>\n",
       "    </tr>\n",
       "  </thead>\n",
       "  <tbody>\n",
       "    <tr>\n",
       "      <th>0</th>\n",
       "      <td>0.00000</td>\n",
       "      <td>1</td>\n",
       "    </tr>\n",
       "    <tr>\n",
       "      <th>1</th>\n",
       "      <td>0.00002</td>\n",
       "      <td>1</td>\n",
       "    </tr>\n",
       "    <tr>\n",
       "      <th>2</th>\n",
       "      <td>0.00004</td>\n",
       "      <td>1</td>\n",
       "    </tr>\n",
       "    <tr>\n",
       "      <th>3</th>\n",
       "      <td>0.00006</td>\n",
       "      <td>1</td>\n",
       "    </tr>\n",
       "    <tr>\n",
       "      <th>4</th>\n",
       "      <td>0.00008</td>\n",
       "      <td>1</td>\n",
       "    </tr>\n",
       "    <tr>\n",
       "      <th>...</th>\n",
       "      <td>...</td>\n",
       "      <td>...</td>\n",
       "    </tr>\n",
       "    <tr>\n",
       "      <th>4995</th>\n",
       "      <td>0.09990</td>\n",
       "      <td>0</td>\n",
       "    </tr>\n",
       "    <tr>\n",
       "      <th>4996</th>\n",
       "      <td>0.09992</td>\n",
       "      <td>0</td>\n",
       "    </tr>\n",
       "    <tr>\n",
       "      <th>4997</th>\n",
       "      <td>0.09994</td>\n",
       "      <td>0</td>\n",
       "    </tr>\n",
       "    <tr>\n",
       "      <th>4998</th>\n",
       "      <td>0.09996</td>\n",
       "      <td>0</td>\n",
       "    </tr>\n",
       "    <tr>\n",
       "      <th>4999</th>\n",
       "      <td>0.09998</td>\n",
       "      <td>0</td>\n",
       "    </tr>\n",
       "  </tbody>\n",
       "</table>\n",
       "<p>5000 rows × 2 columns</p>\n",
       "</div>"
      ],
      "text/plain": [
       "            t  v\n",
       "0     0.00000  1\n",
       "1     0.00002  1\n",
       "2     0.00004  1\n",
       "3     0.00006  1\n",
       "4     0.00008  1\n",
       "...       ... ..\n",
       "4995  0.09990  0\n",
       "4996  0.09992  0\n",
       "4997  0.09994  0\n",
       "4998  0.09996  0\n",
       "4999  0.09998  0\n",
       "\n",
       "[5000 rows x 2 columns]"
      ]
     },
     "execution_count": 21,
     "metadata": {},
     "output_type": "execute_result"
    },
    {
     "name": "stderr",
     "output_type": "stream",
     "text": [
      "C:\\Users\\user\\AppData\\Local\\Programs\\Python\\Python312\\Lib\\site-packages\\matplotlib\\cbook.py:1699: ComplexWarning: Casting complex values to real discards the imaginary part\n",
      "  return math.isfinite(val)\n",
      "C:\\Users\\user\\AppData\\Local\\Programs\\Python\\Python312\\Lib\\site-packages\\matplotlib\\cbook.py:1345: ComplexWarning: Casting complex values to real discards the imaginary part\n",
      "  return np.asarray(x, float)\n"
     ]
    },
    {
     "data": {
      "text/plain": [
       "[<matplotlib.lines.Line2D at 0x2be74b8c440>]"
      ]
     },
     "execution_count": 21,
     "metadata": {},
     "output_type": "execute_result"
    },
    {
     "data": {
      "image/png": "[encoded data removed]",
      "text/plain": [
       "<Figure size 640x480 with 1 Axes>"
      ]
     },
     "metadata": {},
     "output_type": "display_data"
    }
   ],
   "source": [
    "import pandas as pd\n",
    "import numpy as np\n",
    "import matplotlib.pyplot as plt\n",
    "from IPython.core.interactiveshell import InteractiveShell\n",
    "\n",
    "InteractiveShell.ast_node_interactivity = \"all\"\n",
    "\n",
    "PWM_F = 500\n",
    "PWM_FRACTION = 0.2\n",
    "PWM_T = 1.0 / PWM_F\n",
    "\n",
    "SAMPLING_F = 50000\n",
    "SAMPLING_T = 1.0 / SAMPLING_F\n",
    "\n",
    "# def PWM(time_in_cycle, pwm_fraction) -> int:\n",
    "#     fraction_in_cycle = (time_in_value / PWM_T)\n",
    "#     return 1 if fraction_in_cycle < pwm_fraction else 0\n",
    "\n",
    "vs = []\n",
    "ts = []\n",
    "t = 0.0\n",
    "while t <= 0.1:\n",
    "    time_in_cycle = t % PWM_T\n",
    "    fraction_in_cycle = time_in_cycle / PWM_T\n",
    "    v = 1 if fraction_in_cycle <= PWM_FRACTION else 0\n",
    "    vs.append(v)\n",
    "    ts.append(t)\n",
    "    t += SAMPLING_T\n",
    "\n",
    "df = pd.DataFrame({'t': ts, 'v': vs})\n",
    "df\n",
    "\n",
    "# s = df['v'][:500]\n",
    "\n",
    "# s = ts[:\n",
    "\n",
    "fft = np.fft.fft(vs)\n",
    "fft[0] = 0\n",
    "fftfreq = np.fft.fftfreq(len(vs))*len(vs)/(max(ts)-min(ts))\n",
    "\n",
    "# plt.plot(df['v'].rolling(10).mean(), label= 'Average')\n",
    "\n",
    "# plt.plot(df['v'][:500], label= 'V')\n",
    "\n",
    "plt.plot(fftfreq, fft)\n",
    "\n",
    "plt.show()\n",
    "\n",
    "# df[:3]\n",
    "\n",
    "\n",
    "\n",
    "\n"
   ]
  },
  {
   "cell_type": "code",
   "execution_count": null,
   "id": "744a761c-03be-4fd1-9031-ea2dda612e45",
   "metadata": {},
   "outputs": [],
   "source": []
  },
  {
   "cell_type": "code",
   "execution_count": null,
   "id": "cc7105b9-4cad-44db-ac0b-11f18c9df4a5",
   "metadata": {},
   "outputs": [],
   "source": []
  },
  {
   "cell_type": "code",
   "execution_count": null,
   "id": "e4eea6c1-5e17-4088-ae86-d2f3c0adfc16",
   "metadata": {},
   "outputs": [],
   "source": []
  }
 ],
 "metadata": {
  "kernelspec": {
   "display_name": "Python 3 (ipykernel)",
   "language": "python",
   "name": "python3"
  },
  "language_info": {
   "codemirror_mode": {
    "name": "ipython",
    "version": 3
   },
   "file_extension": ".py",
   "mimetype": "text/x-python",
   "name": "python",
   "nbconvert_exporter": "python",
   "pygments_lexer": "ipython3",
   "version": "3.12.0"
  }
 },
 "nbformat": 4,
 "nbformat_minor": 5
}
