{
 "cells": [
  {
   "cell_type": "markdown",
   "id": "81b19203-271b-49ac-ad22-c48fd82487ed",
   "metadata": {},
   "source": [
    "PWM Signal Sampling"
   ]
  },
  {
   "cell_type": "code",
   "execution_count": 28,
   "id": "6411617d-05e0-44a7-a777-14aece24e8df",
   "metadata": {},
   "outputs": [
    {
     "data": {
      "text/html": [
       "<div>\n",
       "<style scoped>\n",
       "    .dataframe tbody tr th:only-of-type {\n",
       "        vertical-align: middle;\n",
       "    }\n",
       "\n",
       "    .dataframe tbody tr th {\n",
       "        vertical-align: top;\n",
       "    }\n",
       "\n",
       "    .dataframe thead th {\n",
       "        text-align: right;\n",
       "    }\n",
       "</style>\n",
       "<table border=\"1\" class=\"dataframe\">\n",
       "  <thead>\n",
       "    <tr style=\"text-align: right;\">\n",
       "      <th></th>\n",
       "      <th>v</th>\n",
       "    </tr>\n",
       "  </thead>\n",
       "  <tbody>\n",
       "    <tr>\n",
       "      <th>0</th>\n",
       "      <td>1</td>\n",
       "    </tr>\n",
       "    <tr>\n",
       "      <th>1</th>\n",
       "      <td>0</td>\n",
       "    </tr>\n",
       "    <tr>\n",
       "      <th>2</th>\n",
       "      <td>0</td>\n",
       "    </tr>\n",
       "    <tr>\n",
       "      <th>3</th>\n",
       "      <td>0</td>\n",
       "    </tr>\n",
       "    <tr>\n",
       "      <th>4</th>\n",
       "      <td>0</td>\n",
       "    </tr>\n",
       "    <tr>\n",
       "      <th>...</th>\n",
       "      <td>...</td>\n",
       "    </tr>\n",
       "    <tr>\n",
       "      <th>19996</th>\n",
       "      <td>0</td>\n",
       "    </tr>\n",
       "    <tr>\n",
       "      <th>19997</th>\n",
       "      <td>0</td>\n",
       "    </tr>\n",
       "    <tr>\n",
       "      <th>19998</th>\n",
       "      <td>0</td>\n",
       "    </tr>\n",
       "    <tr>\n",
       "      <th>19999</th>\n",
       "      <td>0</td>\n",
       "    </tr>\n",
       "    <tr>\n",
       "      <th>20000</th>\n",
       "      <td>0</td>\n",
       "    </tr>\n",
       "  </tbody>\n",
       "</table>\n",
       "<p>20001 rows × 1 columns</p>\n",
       "</div>"
      ],
      "text/plain": [
       "       v\n",
       "0      1\n",
       "1      0\n",
       "2      0\n",
       "3      0\n",
       "4      0\n",
       "...   ..\n",
       "19996  0\n",
       "19997  0\n",
       "19998  0\n",
       "19999  0\n",
       "20000  0\n",
       "\n",
       "[20001 rows x 1 columns]"
      ]
     },
     "execution_count": 28,
     "metadata": {},
     "output_type": "execute_result"
    },
    {
     "data": {
      "text/plain": [
       "[<matplotlib.lines.Line2D at 0x1d85d2c3110>]"
      ]
     },
     "execution_count": 28,
     "metadata": {},
     "output_type": "execute_result"
    },
    {
     "data": {
      "image/png": "[encoded data removed]",
      "text/plain": [
       "<Figure size 640x480 with 1 Axes>"
      ]
     },
     "metadata": {},
     "output_type": "display_data"
    }
   ],
   "source": [
    "import pandas as pd\n",
    "import numpy as np\n",
    "import matplotlib.pyplot as plt\n",
    "from IPython.core.interactiveshell import InteractiveShell\n",
    "\n",
    "InteractiveShell.ast_node_interactivity = \"all\"\n",
    "\n",
    "PWM_F = 500\n",
    "PWM_T = 1.0 / PWM_F\n",
    "\n",
    "SAMPLING_F = 5009\n",
    "SAMPLING_T = 1.0 / SAMPLING_F\n",
    "\n",
    "# def PWM(time_in_cycle, pwm_fraction) -> int:\n",
    "#     fraction_in_cycle = (time_in_value / PWM_T)\n",
    "#     return 1 if fraction_in_cycle < pwm_fraction else 0\n",
    "\n",
    "sampling = []\n",
    "t = 0.0\n",
    "while t <= 2.0:\n",
    "    time_in_cycle = t % PWM_T\n",
    "    fraction_in_cycle = time_in_cycle / PWM_T\n",
    "    if t <= 1.0:\n",
    "        desired_fraction = t\n",
    "    else:\n",
    "        desired_fraction = 2 - t\n",
    "    v = 1 if fraction_in_cycle <= desired_fraction else 0\n",
    "    # sampling.append((t, desired_fraction, v ))\n",
    "    sampling.append(v)\n",
    "    t += SAMPLING_T\n",
    "\n",
    "df = pd.DataFrame(sampling, columns=['v'])\n",
    "df\n",
    "\n",
    "plt.plot(df['v'].rolling(10).mean(),label= 'Average')\n",
    "\n",
    "plt.show()\n",
    "\n",
    "\n",
    "\n",
    "\n"
   ]
  },
  {
   "cell_type": "code",
   "execution_count": null,
   "id": "744a761c-03be-4fd1-9031-ea2dda612e45",
   "metadata": {},
   "outputs": [],
   "source": []
  }
 ],
 "metadata": {
  "kernelspec": {
   "display_name": "Python 3 (ipykernel)",
   "language": "python",
   "name": "python3"
  },
  "language_info": {
   "codemirror_mode": {
    "name": "ipython",
    "version": 3
   },
   "file_extension": ".py",
   "mimetype": "text/x-python",
   "name": "python",
   "nbconvert_exporter": "python",
   "pygments_lexer": "ipython3",
   "version": "3.12.0"
  }
 },
 "nbformat": 4,
 "nbformat_minor": 5
}
